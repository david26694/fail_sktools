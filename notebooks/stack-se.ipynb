{
 "cells": [
  {
   "cell_type": "markdown",
   "metadata": {
    "ExecuteTime": {
     "end_time": "2020-06-01T15:16:39.271608Z",
     "start_time": "2020-06-01T15:16:39.268672Z"
    }
   },
   "source": [
    "#### Libraries"
   ]
  },
  {
   "cell_type": "code",
   "execution_count": 1,
   "metadata": {
    "ExecuteTime": {
     "end_time": "2020-06-28T18:02:41.097413Z",
     "start_time": "2020-06-28T18:02:41.080520Z"
    }
   },
   "outputs": [
    {
     "data": {
      "text/plain": "<IPython.core.display.Javascript object>",
      "application/javascript": "utils.load_extension('collapsible_headings/main')\nutils.load_extension('hide_input/main')\nutils.load_extension('autosavetime/main')\nutils.load_extension('execute_time/ExecuteTime')\nutils.load_extension('code_prettify/code_prettify')\nutils.load_extension('scroll_down/main')\nutils.load_extension('jupyter-js-widgets/extension')\n\n"
     },
     "metadata": {},
     "output_type": "display_data"
    }
   ],
   "source": [
    "%%javascript\n",
    "utils.load_extension('collapsible_headings/main')\n",
    "utils.load_extension('hide_input/main')\n",
    "utils.load_extension('autosavetime/main')\n",
    "utils.load_extension('execute_time/ExecuteTime')\n",
    "utils.load_extension('code_prettify/code_prettify')\n",
    "utils.load_extension('scroll_down/main')\n",
    "utils.load_extension('jupyter-js-widgets/extension')"
   ]
  },
  {
   "cell_type": "code",
   "execution_count": 2,
   "metadata": {
    "ExecuteTime": {
     "end_time": "2020-06-28T18:07:55.014380Z",
     "start_time": "2020-06-28T18:07:55.008663Z"
    }
   },
   "outputs": [],
   "source": [
    "from sklearn import *\n",
    "import sklearn\n",
    "import time\n",
    "from sklearn.base import BaseEstimator, TransformerMixin\n",
    "import numpy as np\n",
    "import pandas as pd\n",
    "pd.set_option('max_columns', None)\n",
    "import joblib\n",
    "from sklearn.metrics import mean_absolute_error,mean_squared_error\n",
    "from sklearn import pipeline\n",
    "from sklearn.pipeline import Pipeline\n",
    "from sklearn.model_selection import GridSearchCV,RepeatedKFold\n",
    "from scipy.stats import wilcoxon\n",
    "\n",
    "\n",
    "from sklearn.feature_selection import VarianceThreshold\n",
    "import zipfile\n",
    "import os\n",
    "\n",
    "from lightgbm import LGBMRegressor\n",
    "\n",
    "\n",
    "import random\n",
    "random.seed(0)\n",
    "\n",
    "from tqdm import tqdm\n",
    "import time\n",
    "\n",
    "from category_encoders.target_encoder import TargetEncoder\n",
    "from category_encoders.m_estimate import MEstimateEncoder\n",
    "\n",
    "import warnings\n",
    "warnings.filterwarnings('ignore')\n",
    "\n",
    "import sktools\n",
    "from tabulate import tabulate"
   ]
  },
  {
   "cell_type": "code",
   "execution_count": 3,
   "metadata": {
    "ExecuteTime": {
     "end_time": "2020-06-28T18:07:28.566056Z",
     "start_time": "2020-06-28T18:07:28.557566Z"
    }
   },
   "outputs": [],
   "source": [
    "class TypeSelector(BaseEstimator, TransformerMixin):\n",
    "    \"\"\"\n",
    "    Transformer that filters a type of columns of a given data frame.\n",
    "    \"\"\"\n",
    "\n",
    "    def __init__(self, dtype):\n",
    "        self.dtype = dtype\n",
    "\n",
    "    def fit(self, X, y=None):\n",
    "        return self\n",
    "\n",
    "    def transform(self, X):\n",
    "        assert isinstance(X, pd.DataFrame)\n",
    "        # print(\"Type Selector out shape {}\".format(X.select_dtypes(include=[self.dtype]).shape))\n",
    "        # print(X.select_dtypes(include=[self.dtype]).dtypes)\n",
    "        return X.select_dtypes(include=[self.dtype])\n",
    "\n",
    "\n",
    "def elapsed_time_mins(time1, time2):\n",
    "    elapsed = np.round(np.abs(time1 - time2) / 60, decimals=2)\n",
    "\n",
    "    return elapsed\n",
    "\n",
    "\n",
    "def fit_pipe(pipe, pipe_grid, X, y, subsample=False, n_max=20_000, best_params=True):\n",
    "\n",
    "    if subsample:\n",
    "        X = X[0:n_max]\n",
    "        y = y[0:n_max]\n",
    "\n",
    "    # Instantiate the grid\n",
    "    pipe_cv = GridSearchCV(\n",
    "        pipe,\n",
    "        param_grid=pipe_grid,\n",
    "        n_jobs=n_jobs,\n",
    "        cv=cv,\n",
    "        scoring=\"neg_mean_absolute_error\",\n",
    "    )\n",
    "\n",
    "    pipe_cv.fit(X, y)\n",
    "\n",
    "    best_estimator = pipe_cv.best_estimator_.fit(X_tr, y_tr)\n",
    "    grid_results = pd.DataFrame(pipe_cv.cv_results_)\n",
    "\n",
    "    return best_estimator, grid_results, pipe_cv.best_params_\n",
    "\n",
    "\n",
    "def compare_results(grid_1_res, grid_2_res):\n",
    "\n",
    "    all_results = grid_1_res.melt().merge(\n",
    "        grid_2_res.melt(), on=\"variable\", suffixes=(\"_te\", \"_pe\")\n",
    "    )\n",
    "\n",
    "    all_results = all_results[all_results[\"variable\"].str.contains(\"split\")]\n",
    "\n",
    "    test_results = wilcoxon(\n",
    "        all_results.value_pe, all_results.value_te, alternative=\"greater\"\n",
    "    )\n",
    "\n",
    "    return test_results.pvalue.round(3)"
   ]
  },
  {
   "cell_type": "code",
   "execution_count": 4,
   "metadata": {
    "ExecuteTime": {
     "end_time": "2020-06-28T18:04:01.864123Z",
     "start_time": "2020-06-28T18:04:01.857239Z"
    }
   },
   "outputs": [],
   "source": [
    "# Check directories\n",
    "\n",
    "\n",
    "directory = './results_regression/pickle'\n",
    "if not os.path.exists(directory):\n",
    "        os.makedirs(directory)\n",
    "directory = './results_regression/grid_results/'\n",
    "if not os.path.exists(directory):\n",
    "        os.makedirs(directory)\n",
    "directory = './results_regression/partial/'\n",
    "if not os.path.exists(directory):\n",
    "        os.makedirs(directory)\n",
    "directory = './results_regression/datasets/'\n",
    "if not os.path.exists(directory):\n",
    "        os.makedirs(directory)\n"
   ]
  },
  {
   "cell_type": "markdown",
   "metadata": {},
   "source": [
    "## Define the data"
   ]
  },
  {
   "cell_type": "raw",
   "metadata": {
    "ExecuteTime": {
     "end_time": "2020-06-28T17:23:57.552700Z",
     "start_time": "2020-06-28T17:23:57.060545Z"
    }
   },
   "source": [
    "d = pd.read_csv('data/so2019.csv')\n",
    "\n",
    "\n",
    "\n",
    "for col in d.columns:\n",
    "    if len(d[col].unique()) < 10:\n",
    "        print(col)\n",
    "        d.drop(col,inplace=True,axis=1)\n",
    "\n",
    "\n",
    "d.to_csv('data/so2019.csv',index=False)"
   ]
  },
  {
   "cell_type": "code",
   "execution_count": 5,
   "metadata": {
    "ExecuteTime": {
     "end_time": "2020-06-28T18:04:02.488759Z",
     "start_time": "2020-06-28T18:04:02.485283Z"
    }
   },
   "outputs": [],
   "source": [
    "data = [\n",
    "    'data/house_kaggle.csv',\n",
    "    'data/stackoverflow.csv',\n",
    "    'data/so2019.csv',\n",
    "    'data/ks.csv',\n",
    "    'data/medical_payments_sample.csv',\n",
    "    'data/cauchy.csv'\n",
    "]"
   ]
  },
  {
   "cell_type": "code",
   "execution_count": 6,
   "metadata": {
    "ExecuteTime": {
     "end_time": "2020-06-28T18:04:02.659717Z",
     "start_time": "2020-06-28T18:04:02.656655Z"
    }
   },
   "outputs": [],
   "source": [
    "drop = [\n",
    "    [\n",
    "        \"Id\",\n",
    "        \"BsmtQual\",\n",
    "        \"BsmtCond\",\n",
    "        \"BsmtExposure\",\n",
    "        \"BsmtFinType1\",\n",
    "        \"BsmtFinSF1\",\n",
    "        \"BsmtFinType2\",\n",
    "        \"BsmtFinSF2\",\n",
    "        \"BsmtUnfSF\",\n",
    "        \"LowQualFinSF\",\n",
    "        \"FullBath\",\n",
    "        \"HalfBath\",\n",
    "    ],\n",
    "    [\"Respondent\", \"Salary\"],\n",
    "    [],\n",
    "    [],\n",
    "    [],\n",
    "    [],\n",
    "]"
   ]
  },
  {
   "cell_type": "code",
   "execution_count": 7,
   "metadata": {
    "ExecuteTime": {
     "end_time": "2020-06-28T18:04:02.846626Z",
     "start_time": "2020-06-28T18:04:02.842585Z"
    }
   },
   "outputs": [],
   "source": [
    "cols_enc = [\n",
    "    [\n",
    "        \"MSSubClass\",\n",
    "        \"MSZoning\",\n",
    "        \"LotShape\",\n",
    "        \"LandContour\",\n",
    "        \"Utilities\",\n",
    "        \"LotConfig\",\n",
    "        \"Neighborhood\",\n",
    "        \"BldgType\",\n",
    "        \"HouseStyle\",\n",
    "        \"YearBuilt\",\n",
    "        \"RoofStyle\",\n",
    "        \"RoofMatl\",\n",
    "        \"Exterior1st\",\n",
    "        \"Exterior2nd\",\n",
    "        \"ExterQual\",\n",
    "        \"MasVnrType\",\n",
    "        \"Heating\",\n",
    "        \"HeatingQC\",\n",
    "    ],\n",
    "    [\n",
    "        \"Country\",\n",
    "        \"Employment\",\n",
    "        \"FormalEducation\",\n",
    "        \"UndergradMajor\",\n",
    "        \"CompanySize\",\n",
    "        \"DevType\",\n",
    "        \"YearsCoding\",\n",
    "        \"LanguageWorkedWith\",\n",
    "        \"LanguageDesireNextYear\",\n",
    "        \"RaceEthnicity\",\n",
    "    ],\n",
    "    [\"yearscode\", \"country\"],\n",
    "    [\"category\", \"main_category\", \"currency\", \"state\", \"country\"],\n",
    "    [\n",
    "        \"Recipient_City\",\n",
    "        \"Recipient_State\",\n",
    "        \"Recipient_Zip_Code\",\n",
    "        \"Recipient_Country\",\n",
    "        \"Physician_Primary_Type\",\n",
    "        \"Physician_License_State_code1\",\n",
    "        \"Submitting_Applicable_Manufacturer_or_Applicable_GPO_Name\",\n",
    "        \"Applicable_Manufacturer_or_Applicable_GPO_Making_Payment_Country\",\n",
    "        \"Form_of_Payment_or_Transfer_of_Value\",\n",
    "        \"Nature_of_Payment_or_Transfer_of_Value\",\n",
    "    ],\n",
    "    [\"value_1\", \"value_2\"],\n",
    "]"
   ]
  },
  {
   "cell_type": "code",
   "execution_count": 8,
   "metadata": {
    "ExecuteTime": {
     "end_time": "2020-06-28T18:04:03.042665Z",
     "start_time": "2020-06-28T18:04:03.039496Z"
    }
   },
   "outputs": [],
   "source": [
    "target = [\n",
    "    ['SalePrice'],\n",
    "    ['ConvertedSalary'],\n",
    "    ['convertedcomp'],\n",
    "    ['goal'],\n",
    "    ['Total_Amount_of_Payment_USDollars'],\n",
    "    ['target']\n",
    "]"
   ]
  },
  {
   "cell_type": "markdown",
   "metadata": {
    "ExecuteTime": {
     "end_time": "2020-06-01T15:30:39.185710Z",
     "start_time": "2020-06-01T15:30:39.181882Z"
    }
   },
   "source": [
    "# Loop"
   ]
  },
  {
   "cell_type": "code",
   "execution_count": 9,
   "metadata": {
    "ExecuteTime": {
     "end_time": "2020-06-28T18:04:03.455415Z",
     "start_time": "2020-06-28T18:04:03.443750Z"
    }
   },
   "outputs": [],
   "source": [
    "n_jobs = 1\n",
    "float_eltype = np.float32\n",
    "resultados = []\n",
    "tic = time.time()\n",
    "\n",
    "n_max = 20_000\n",
    "cv = 4\n",
    "filter_size = 2_000\n",
    "columns = [\n",
    "    \"NameDataset\",\n",
    "    # Scores\n",
    "    \"enet_te_train_mae\",\n",
    "    \"enet_te_test_mae\",\n",
    "    \"enet_te_train_mse\",\n",
    "    \"enet_te_test_mse\",\n",
    "    \"enet_pe_train_mae\",\n",
    "    \"enet_pe_test_mae\",\n",
    "    \"enet_pe_train_mse\",\n",
    "    \"enet_pe_test_mse\",\n",
    "    \"xgb_te_train_mae\",\n",
    "    \"xgb_te_test_mae\",\n",
    "    \"xgb_te_train_mse\",\n",
    "    \"xgb_te_test_mse\",\n",
    "    \"xgb_pe_train_mae\",\n",
    "    \"xgb_pe_test_mae\",\n",
    "    \"xgb_pe_train_mse\",\n",
    "    \"xgb_pe_test_mse\",\n",
    "    \"size\",\n",
    "    # Params\n",
    "    \"enet_te_best_params\",\n",
    "    \"enet_pe_best_params\",\n",
    "    # Time\n",
    "    \"time_train_m\",\n",
    "]"
   ]
  },
  {
   "cell_type": "code",
   "execution_count": 10,
   "metadata": {},
   "outputs": [],
   "source": [
    "i = 1\n",
    "data_i = data[i]\n",
    "n_jobs = -1\n",
    "\n",
    "from constants import *\n",
    "from utils import *\n",
    "from sklearn.model_selection import train_test_split\n",
    "from sklearn.preprocessing import StandardScaler\n",
    "from sklearn.linear_model import ElasticNet\n",
    "from lightgbm import LGBMRegressor\n",
    "from category_encoders import MEstimateEncoder\n",
    "from sktools import TypeSelector\n",
    "from tabulate import tabulate\n",
    "\n",
    "results_dict = {}"
   ]
  },
  {
   "cell_type": "code",
   "execution_count": 11,
   "metadata": {},
   "outputs": [
    {
     "name": "stdout",
     "output_type": "stream",
     "text": [
      "(47702, 6)\n",
      "+-------+-------+---------+---------+---------+\n",
      "| stack | lm_te | 60024.4 | 79898.2 | 80149.9 |\n",
      "+-------+-------+---------+---------+---------+\n",
      "+-------+-------+---------+-------+---------+\n",
      "| stack | lm_pe | 57187.7 | 71877 | 72627.4 |\n",
      "+-------+-------+---------+-------+---------+\n",
      "+-------+-------+-------+---------+---------+\n",
      "| stack | lm_se | 70972 | 82118.8 | 82712.6 |\n",
      "+-------+-------+-------+---------+---------+\n",
      "+-------+-------+---------+---------+---------+\n",
      "| stack | lg_te | 46731.3 | 74414.9 | 74601.5 |\n",
      "+-------+-------+---------+---------+---------+\n",
      "+-------+-------+-------+---------+---------+\n",
      "| stack | lg_pe | 46902 | 70689.9 | 70215.3 |\n",
      "+-------+-------+-------+---------+---------+\n",
      "+-------+-------+-------+---------+---------+\n",
      "| stack | lg_se | 43825 | 77068.4 | 75439.7 |\n",
      "+-------+-------+-------+---------+---------+\n"
     ]
    }
   ],
   "source": [
    "dataset_keep = keep[i] + target[i]\n",
    "\n",
    "tic = time.time()\n",
    "\n",
    "cv = RepeatedKFold(n_repeats=3, n_splits=4)\n",
    "\n",
    "# Read data\n",
    "df = pd.read_csv(data_i)\n",
    "\n",
    "# if df.shape[0] > 100_000:\n",
    "#     df = df.sample(n=100_000)\n",
    "\n",
    "# Drop columns\n",
    "df = df.loc[:, dataset_keep]\n",
    "\n",
    "# Fillna\n",
    "df.fillna(0, inplace=True)\n",
    "\n",
    "print(df.shape)\n",
    "# Train-Test Split\n",
    "X_tr, X_te, y_tr, y_te = train_test_split(df.drop(columns=target[i]), df[target[i]])\n",
    "\n",
    "results_dict[data_i] = {}\n",
    "\n",
    "# Elastic Net + target encoding\n",
    "scaler = StandardScaler()\n",
    "lm = ElasticNet()\n",
    "lgbm = LGBMRegressor(verbose=-1)\n",
    "te = MEstimateEncoder(cols=cols_enc[i])\n",
    "pe = QuantileEncoder(cols=cols_enc[i], quantile=0.50)\n",
    "se = SummaryEncoder(cols=cols_enc[i], quantiles=[0.1, 0.50, 0.9], m=15)\n",
    "\n",
    "encoders = {\"te\": te, \"pe\": pe, \"se\": se}\n",
    "learners = {\"lm\": lm, \"lg\": lgbm}\n",
    "\n",
    "for learner_name, learner in learners.items():\n",
    "\n",
    "    results_dict[data_i][learner_name] = {}\n",
    "\n",
    "    for encoder_name, encoder in encoders.items():\n",
    "        results_dict[data_i][learner_name][encoder_name] = {}\n",
    "\n",
    "        pipe = Pipeline(\n",
    "            [\n",
    "                (\"enc\", encoder),\n",
    "                (\n",
    "                    \"selector\",\n",
    "                    TypeSelector(np.number),\n",
    "                ),  # Selects Numerical Columns only\n",
    "                (\"scaler\", scaler),\n",
    "                (\"learner\", learner),\n",
    "            ]\n",
    "        )\n",
    "\n",
    "        pipe_grid = {}\n",
    "\n",
    "        # Train model\n",
    "        enet_te, enet_te_grid_results, enet_te_params = fit_pipe(\n",
    "            pipe, pipe_grid, X_tr, y_tr, n_jobs=-1, cv=cv\n",
    "        )\n",
    "\n",
    "        results_dict[data_i][learner_name][encoder_name][\n",
    "            \"grid_results\"\n",
    "        ] = enet_te_grid_results\n",
    "\n",
    "        results_dict[data_i][learner_name][encoder_name][\n",
    "            \"cv_mae\"\n",
    "        ] = -enet_te_grid_results[\"mean_test_score\"]\n",
    "\n",
    "        results_dict[data_i][learner_name][encoder_name][\n",
    "            \"train_mae\"\n",
    "        ] = mean_absolute_error(y_tr, enet_te.predict(X_tr))\n",
    "        results_dict[data_i][learner_name][encoder_name][\n",
    "            \"test_mae\"\n",
    "        ] = mean_absolute_error(y_te, enet_te.predict(X_te))\n",
    "\n",
    "        results_dict[data_i][learner_name][encoder_name][\n",
    "            \"train_mse\"\n",
    "        ] = mean_squared_error(y_tr, enet_te.predict(X_tr))\n",
    "        results_dict[data_i][learner_name][encoder_name][\n",
    "            \"test_mse\"\n",
    "        ] = mean_squared_error(y_te, enet_te.predict(X_te))\n",
    "\n",
    "        print(\n",
    "            tabulate(\n",
    "                tabular_data=[\n",
    "                    [\n",
    "                        data_i[5:10],\n",
    "                        f\"{learner_name}_{encoder_name}\",\n",
    "                        results_dict[data_i][learner_name][encoder_name][\n",
    "                            \"train_mae\"\n",
    "                        ],\n",
    "                        results_dict[data_i][learner_name][encoder_name][\"cv_mae\"],\n",
    "                        results_dict[data_i][learner_name][encoder_name][\n",
    "                            \"test_mae\"\n",
    "                        ],\n",
    "                    ]\n",
    "                ],\n",
    "                tablefmt=\"psql\",\n",
    "            )\n",
    "        )\n"
   ]
  },
  {
   "cell_type": "code",
   "execution_count": 12,
   "metadata": {},
   "outputs": [
    {
     "name": "stdout",
     "output_type": "stream",
     "text": [
      "(47702, 6)\n"
     ]
    }
   ],
   "source": [
    "# Read data\n",
    "df = pd.read_csv(data_i)\n",
    "\n",
    "# if df.shape[0] > 100_000:\n",
    "#     df = df.sample(n=100_000)\n",
    "\n",
    "# Drop columns\n",
    "df = df.loc[:, dataset_keep]\n",
    "\n",
    "# Fillna\n",
    "df.fillna(0, inplace=True)\n",
    "\n",
    "print(df.shape)\n",
    "# Train-Test Split\n",
    "X_tr, X_te, y_tr, y_te = train_test_split(df.drop(columns=target[i]), df[target[i]])"
   ]
  },
  {
   "cell_type": "code",
   "execution_count": 13,
   "metadata": {},
   "outputs": [],
   "source": [
    "encoder = se\n",
    "learner = lm\n"
   ]
  },
  {
   "cell_type": "code",
   "execution_count": 17,
   "metadata": {},
   "outputs": [
    {
     "data": {
      "text/plain": "SummaryEncoder(cols=['Country', 'Employment', 'FormalEducation', 'DevType',\n                     'LanguageWorkedWith'],\n               m=15, quantiles=[0.1, 0.5, 0.9])"
     },
     "execution_count": 17,
     "metadata": {},
     "output_type": "execute_result"
    }
   ],
   "source": [
    "se.fit(X_tr, y_tr)"
   ]
  },
  {
   "cell_type": "code",
   "execution_count": 18,
   "metadata": {},
   "outputs": [
    {
     "data": {
      "text/plain": "              Country                                         Employment  \\\n19842           India                                 Employed full-time   \n30110           China                                 Employed full-time   \n40863         Germany                                 Employed full-time   \n1524   United Kingdom                                 Employed full-time   \n43586         Germany  Independent contractor, freelancer, or self-em...   \n...               ...                                                ...   \n17747           Malta                                 Employed full-time   \n22693  United Kingdom                                 Employed full-time   \n3251         Portugal                                 Employed full-time   \n37781           India                                 Employed full-time   \n30394         Ukraine                                 Employed full-time   \n\n                                   FormalEducation  \\\n19842     Bachelor’s degree (BA, BS, B.Eng., etc.)   \n30110     Bachelor’s degree (BA, BS, B.Eng., etc.)   \n40863     Bachelor’s degree (BA, BS, B.Eng., etc.)   \n1524   Master’s degree (MA, MS, M.Eng., MBA, etc.)   \n43586  Master’s degree (MA, MS, M.Eng., MBA, etc.)   \n...                                            ...   \n17747     Bachelor’s degree (BA, BS, B.Eng., etc.)   \n22693  Master’s degree (MA, MS, M.Eng., MBA, etc.)   \n3251   Master’s degree (MA, MS, M.Eng., MBA, etc.)   \n37781     Bachelor’s degree (BA, BS, B.Eng., etc.)   \n30394     Bachelor’s degree (BA, BS, B.Eng., etc.)   \n\n                                                 DevType  \\\n19842  Back-end developer;Designer;Front-end develope...   \n30110  Back-end developer;Desktop or enterprise appli...   \n40863  Back-end developer;Designer;Front-end develope...   \n1524              DevOps specialist;Full-stack developer   \n43586                                Front-end developer   \n...                                                  ...   \n17747  Back-end developer;Designer;Front-end develope...   \n22693  Back-end developer;DevOps specialist;System ad...   \n3251                                    Mobile developer   \n37781               Front-end developer;Mobile developer   \n30394                                 Back-end developer   \n\n                                      LanguageWorkedWith    Country_10  \\\n19842                                            PHP;CSS   2281.597136   \n30110                    Java;JavaScript;HTML;Bash/Shell   9224.800000   \n40863  C;C++;C#;Go;Java;JavaScript;Matlab;PHP;Python;...  13739.082353   \n1524            C#;JavaScript;Python;HTML;CSS;Bash/Shell  30435.909253   \n43586                     JavaScript;TypeScript;HTML;CSS  13739.082353   \n...                                                  ...           ...   \n17747                         C#;JavaScript;SQL;HTML;CSS  17293.304348   \n22693                 JavaScript;Python;R;SQL;Bash/Shell  30435.909253   \n3251                      Java;JavaScript;SQL;Bash/Shell  12359.014847   \n37781                           Java;JavaScript;HTML;CSS   2281.597136   \n30394                                         PHP;Python   4319.275862   \n\n       Employment_10  FormalEducation_10    DevType_10  LanguageWorkedWith_10  \\\n19842   10618.415922         7344.137308   6105.855319            7559.250000   \n30110   10618.415922         7344.137308  12275.475000            7591.636364   \n40863   10618.415922         7344.137308   7405.263158            7367.250000   \n1524    10618.415922        13295.627203  33536.432787            8328.900000   \n43586    6007.447865        13295.627203   8846.680275            7263.849541   \n...              ...                 ...           ...                    ...   \n17747   10618.415922         7344.137308   6105.855319           14576.024034   \n22693   10618.415922        13295.627203  21152.400000           19344.000000   \n3251    10618.415922        13295.627203   4835.518480           13464.000000   \n37781   10618.415922         7344.137308   4878.371681            5178.282353   \n30394   10618.415922         7344.137308   9988.329505            6097.714286   \n\n         Country_50  Employment_50  FormalEducation_50    DevType_50  \\\n19842   9618.969411   59355.825447        58337.126218  48959.000000   \n30110  28110.066667   59355.825447        58337.126218  55542.976562   \n40863  61158.005882   59355.825447        58337.126218  50212.473684   \n1524   62467.327402   59355.825447        59350.348142  76935.450820   \n43586  61158.005882   57935.227408        59350.348142  54917.355250   \n...             ...            ...                 ...           ...   \n17747  47651.847826   59355.825447        58337.126218  48959.000000   \n22693  62467.327402   59355.825447        59350.348142  73520.000000   \n3251   28448.820961   59355.825447        59350.348142  38396.528316   \n37781   9618.969411   59355.825447        58337.126218  45668.694690   \n30394  22353.922414   59355.825447        58337.126218  61157.649505   \n\n       LanguageWorkedWith_50     Country_90  Employment_90  \\\n19842           52160.812500   47425.981614  140896.465323   \n30110           62863.136364   61814.166667  140896.465323   \n40863           51968.812500  114958.499412  140896.465323   \n1524            55720.000000  232873.500534  140896.465323   \n43586           43365.252294  114958.499412  178574.556604   \n...                      ...            ...            ...   \n17747           66611.995708  244195.728261  140896.465323   \n22693           63005.681818  232873.500534  140896.465323   \n3251            63117.416667   66474.687773  140896.465323   \n37781           39116.382353   47425.981614  140896.465323   \n30394           53731.571429   52811.456034  140896.465323   \n\n       FormalEducation_90     DevType_90  LanguageWorkedWith_90  \n19842       140001.595323  126073.138298          133477.218750  \n30110       140001.595323  130461.425781          145039.404545  \n40863       140001.595323  231274.121053          133285.218750  \n1524        149985.372499  126672.087705          117092.850000  \n43586       149985.372499  134804.698234          132436.786697  \n...                   ...            ...                    ...  \n17747       140001.595323  126073.138298          131917.006438  \n22693       149985.372499  179518.402778          241526.704545  \n3251        149985.372499  140945.005887          135118.458333  \n37781       140001.595323  116779.590708          112888.497059  \n30394       140001.595323  149951.361386          125580.357143  \n\n[35776 rows x 20 columns]",
      "text/html": "<div>\n<style scoped>\n    .dataframe tbody tr th:only-of-type {\n        vertical-align: middle;\n    }\n\n    .dataframe tbody tr th {\n        vertical-align: top;\n    }\n\n    .dataframe thead th {\n        text-align: right;\n    }\n</style>\n<table border=\"1\" class=\"dataframe\">\n  <thead>\n    <tr style=\"text-align: right;\">\n      <th></th>\n      <th>Country</th>\n      <th>Employment</th>\n      <th>FormalEducation</th>\n      <th>DevType</th>\n      <th>LanguageWorkedWith</th>\n      <th>Country_10</th>\n      <th>Employment_10</th>\n      <th>FormalEducation_10</th>\n      <th>DevType_10</th>\n      <th>LanguageWorkedWith_10</th>\n      <th>Country_50</th>\n      <th>Employment_50</th>\n      <th>FormalEducation_50</th>\n      <th>DevType_50</th>\n      <th>LanguageWorkedWith_50</th>\n      <th>Country_90</th>\n      <th>Employment_90</th>\n      <th>FormalEducation_90</th>\n      <th>DevType_90</th>\n      <th>LanguageWorkedWith_90</th>\n    </tr>\n  </thead>\n  <tbody>\n    <tr>\n      <th>19842</th>\n      <td>India</td>\n      <td>Employed full-time</td>\n      <td>Bachelor’s degree (BA, BS, B.Eng., etc.)</td>\n      <td>Back-end developer;Designer;Front-end develope...</td>\n      <td>PHP;CSS</td>\n      <td>2281.597136</td>\n      <td>10618.415922</td>\n      <td>7344.137308</td>\n      <td>6105.855319</td>\n      <td>7559.250000</td>\n      <td>9618.969411</td>\n      <td>59355.825447</td>\n      <td>58337.126218</td>\n      <td>48959.000000</td>\n      <td>52160.812500</td>\n      <td>47425.981614</td>\n      <td>140896.465323</td>\n      <td>140001.595323</td>\n      <td>126073.138298</td>\n      <td>133477.218750</td>\n    </tr>\n    <tr>\n      <th>30110</th>\n      <td>China</td>\n      <td>Employed full-time</td>\n      <td>Bachelor’s degree (BA, BS, B.Eng., etc.)</td>\n      <td>Back-end developer;Desktop or enterprise appli...</td>\n      <td>Java;JavaScript;HTML;Bash/Shell</td>\n      <td>9224.800000</td>\n      <td>10618.415922</td>\n      <td>7344.137308</td>\n      <td>12275.475000</td>\n      <td>7591.636364</td>\n      <td>28110.066667</td>\n      <td>59355.825447</td>\n      <td>58337.126218</td>\n      <td>55542.976562</td>\n      <td>62863.136364</td>\n      <td>61814.166667</td>\n      <td>140896.465323</td>\n      <td>140001.595323</td>\n      <td>130461.425781</td>\n      <td>145039.404545</td>\n    </tr>\n    <tr>\n      <th>40863</th>\n      <td>Germany</td>\n      <td>Employed full-time</td>\n      <td>Bachelor’s degree (BA, BS, B.Eng., etc.)</td>\n      <td>Back-end developer;Designer;Front-end develope...</td>\n      <td>C;C++;C#;Go;Java;JavaScript;Matlab;PHP;Python;...</td>\n      <td>13739.082353</td>\n      <td>10618.415922</td>\n      <td>7344.137308</td>\n      <td>7405.263158</td>\n      <td>7367.250000</td>\n      <td>61158.005882</td>\n      <td>59355.825447</td>\n      <td>58337.126218</td>\n      <td>50212.473684</td>\n      <td>51968.812500</td>\n      <td>114958.499412</td>\n      <td>140896.465323</td>\n      <td>140001.595323</td>\n      <td>231274.121053</td>\n      <td>133285.218750</td>\n    </tr>\n    <tr>\n      <th>1524</th>\n      <td>United Kingdom</td>\n      <td>Employed full-time</td>\n      <td>Master’s degree (MA, MS, M.Eng., MBA, etc.)</td>\n      <td>DevOps specialist;Full-stack developer</td>\n      <td>C#;JavaScript;Python;HTML;CSS;Bash/Shell</td>\n      <td>30435.909253</td>\n      <td>10618.415922</td>\n      <td>13295.627203</td>\n      <td>33536.432787</td>\n      <td>8328.900000</td>\n      <td>62467.327402</td>\n      <td>59355.825447</td>\n      <td>59350.348142</td>\n      <td>76935.450820</td>\n      <td>55720.000000</td>\n      <td>232873.500534</td>\n      <td>140896.465323</td>\n      <td>149985.372499</td>\n      <td>126672.087705</td>\n      <td>117092.850000</td>\n    </tr>\n    <tr>\n      <th>43586</th>\n      <td>Germany</td>\n      <td>Independent contractor, freelancer, or self-em...</td>\n      <td>Master’s degree (MA, MS, M.Eng., MBA, etc.)</td>\n      <td>Front-end developer</td>\n      <td>JavaScript;TypeScript;HTML;CSS</td>\n      <td>13739.082353</td>\n      <td>6007.447865</td>\n      <td>13295.627203</td>\n      <td>8846.680275</td>\n      <td>7263.849541</td>\n      <td>61158.005882</td>\n      <td>57935.227408</td>\n      <td>59350.348142</td>\n      <td>54917.355250</td>\n      <td>43365.252294</td>\n      <td>114958.499412</td>\n      <td>178574.556604</td>\n      <td>149985.372499</td>\n      <td>134804.698234</td>\n      <td>132436.786697</td>\n    </tr>\n    <tr>\n      <th>...</th>\n      <td>...</td>\n      <td>...</td>\n      <td>...</td>\n      <td>...</td>\n      <td>...</td>\n      <td>...</td>\n      <td>...</td>\n      <td>...</td>\n      <td>...</td>\n      <td>...</td>\n      <td>...</td>\n      <td>...</td>\n      <td>...</td>\n      <td>...</td>\n      <td>...</td>\n      <td>...</td>\n      <td>...</td>\n      <td>...</td>\n      <td>...</td>\n      <td>...</td>\n    </tr>\n    <tr>\n      <th>17747</th>\n      <td>Malta</td>\n      <td>Employed full-time</td>\n      <td>Bachelor’s degree (BA, BS, B.Eng., etc.)</td>\n      <td>Back-end developer;Designer;Front-end develope...</td>\n      <td>C#;JavaScript;SQL;HTML;CSS</td>\n      <td>17293.304348</td>\n      <td>10618.415922</td>\n      <td>7344.137308</td>\n      <td>6105.855319</td>\n      <td>14576.024034</td>\n      <td>47651.847826</td>\n      <td>59355.825447</td>\n      <td>58337.126218</td>\n      <td>48959.000000</td>\n      <td>66611.995708</td>\n      <td>244195.728261</td>\n      <td>140896.465323</td>\n      <td>140001.595323</td>\n      <td>126073.138298</td>\n      <td>131917.006438</td>\n    </tr>\n    <tr>\n      <th>22693</th>\n      <td>United Kingdom</td>\n      <td>Employed full-time</td>\n      <td>Master’s degree (MA, MS, M.Eng., MBA, etc.)</td>\n      <td>Back-end developer;DevOps specialist;System ad...</td>\n      <td>JavaScript;Python;R;SQL;Bash/Shell</td>\n      <td>30435.909253</td>\n      <td>10618.415922</td>\n      <td>13295.627203</td>\n      <td>21152.400000</td>\n      <td>19344.000000</td>\n      <td>62467.327402</td>\n      <td>59355.825447</td>\n      <td>59350.348142</td>\n      <td>73520.000000</td>\n      <td>63005.681818</td>\n      <td>232873.500534</td>\n      <td>140896.465323</td>\n      <td>149985.372499</td>\n      <td>179518.402778</td>\n      <td>241526.704545</td>\n    </tr>\n    <tr>\n      <th>3251</th>\n      <td>Portugal</td>\n      <td>Employed full-time</td>\n      <td>Master’s degree (MA, MS, M.Eng., MBA, etc.)</td>\n      <td>Mobile developer</td>\n      <td>Java;JavaScript;SQL;Bash/Shell</td>\n      <td>12359.014847</td>\n      <td>10618.415922</td>\n      <td>13295.627203</td>\n      <td>4835.518480</td>\n      <td>13464.000000</td>\n      <td>28448.820961</td>\n      <td>59355.825447</td>\n      <td>59350.348142</td>\n      <td>38396.528316</td>\n      <td>63117.416667</td>\n      <td>66474.687773</td>\n      <td>140896.465323</td>\n      <td>149985.372499</td>\n      <td>140945.005887</td>\n      <td>135118.458333</td>\n    </tr>\n    <tr>\n      <th>37781</th>\n      <td>India</td>\n      <td>Employed full-time</td>\n      <td>Bachelor’s degree (BA, BS, B.Eng., etc.)</td>\n      <td>Front-end developer;Mobile developer</td>\n      <td>Java;JavaScript;HTML;CSS</td>\n      <td>2281.597136</td>\n      <td>10618.415922</td>\n      <td>7344.137308</td>\n      <td>4878.371681</td>\n      <td>5178.282353</td>\n      <td>9618.969411</td>\n      <td>59355.825447</td>\n      <td>58337.126218</td>\n      <td>45668.694690</td>\n      <td>39116.382353</td>\n      <td>47425.981614</td>\n      <td>140896.465323</td>\n      <td>140001.595323</td>\n      <td>116779.590708</td>\n      <td>112888.497059</td>\n    </tr>\n    <tr>\n      <th>30394</th>\n      <td>Ukraine</td>\n      <td>Employed full-time</td>\n      <td>Bachelor’s degree (BA, BS, B.Eng., etc.)</td>\n      <td>Back-end developer</td>\n      <td>PHP;Python</td>\n      <td>4319.275862</td>\n      <td>10618.415922</td>\n      <td>7344.137308</td>\n      <td>9988.329505</td>\n      <td>6097.714286</td>\n      <td>22353.922414</td>\n      <td>59355.825447</td>\n      <td>58337.126218</td>\n      <td>61157.649505</td>\n      <td>53731.571429</td>\n      <td>52811.456034</td>\n      <td>140896.465323</td>\n      <td>140001.595323</td>\n      <td>149951.361386</td>\n      <td>125580.357143</td>\n    </tr>\n  </tbody>\n</table>\n<p>35776 rows × 20 columns</p>\n</div>"
     },
     "execution_count": 18,
     "metadata": {},
     "output_type": "execute_result"
    }
   ],
   "source": [
    "se.transform(X_tr)"
   ]
  },
  {
   "cell_type": "code",
   "execution_count": 16,
   "metadata": {},
   "outputs": [],
   "source": [
    "encoder = se\n",
    "learner = lm\n",
    "\n",
    "pipe = Pipeline(\n",
    "    [\n",
    "        (\"enc\", encoder),\n",
    "        (\n",
    "            \"selector\",\n",
    "            TypeSelector(np.number),\n",
    "        ),  # Selects Numerical Columns only\n",
    "        (\"scaler\", scaler),\n",
    "        (\"learner\", learner),\n",
    "    ]\n",
    ")\n",
    "\n",
    "pipe_grid = {}\n",
    "\n",
    "# Train model\n",
    "enet_te, enet_te_grid_results, enet_te_params = fit_pipe(\n",
    "    pipe, pipe_grid, X_tr, y_tr, n_jobs=-1, cv=cv\n",
    ")"
   ]
  },
  {
   "cell_type": "code",
   "execution_count": 16,
   "outputs": [],
   "source": [
    "\n"
   ],
   "metadata": {
    "collapsed": false,
    "pycharm": {
     "name": "#%%\n"
    }
   }
  }
 ],
 "metadata": {
  "kernelspec": {
   "name": "conda-env-sk-experiments-py",
   "language": "python",
   "display_name": "Python [conda env:sk-experiments] *"
  },
  "language_info": {
   "codemirror_mode": {
    "name": "ipython",
    "version": 3
   },
   "file_extension": ".py",
   "mimetype": "text/x-python",
   "name": "python",
   "nbconvert_exporter": "python",
   "pygments_lexer": "ipython3",
   "version": "3.7.0"
  }
 },
 "nbformat": 4,
 "nbformat_minor": 2
}